{
 "cells": [
  {
   "cell_type": "markdown",
   "metadata": {},
   "source": [
    "# Ex_01"
   ]
  },
  {
   "cell_type": "code",
   "execution_count": 14,
   "metadata": {},
   "outputs": [
    {
     "name": "stdout",
     "output_type": "stream",
     "text": [
      "{'resposta_da_llm_gemini': 'A Câmara dos Deputados é uma das duas casas do Congresso Nacional brasileiro, sendo a outra o Senado Federal.\\nComposta por 513 deputados, eleitos por representação proporcional em cada estado e no Distrito Federal, a Câmara representa a população \\nbrasileira de forma mais direta, com o número de deputados de cada estado sendo proporcional à sua população. Suas funções principais \\nincluem aprovar leis, projetos de orçamento e fiscalizar os atos do Poder Executivo.\\n\\nA atuação da Câmara é fundamental para o funcionamento da democracia brasileira. Os deputados elaboram e votam projetos de lei que \\nimpactam diretamente a vida dos cidadãos, desde questões econômicas e sociais até assuntos relacionados à segurança e meio ambiente. \\nAlém disso, a Câmara desempenha um papel crucial na fiscalização do governo, garantindo a transparência e o bom uso dos recursos públicos.'}\n"
     ]
    }
   ],
   "source": [
    "import yaml\n",
    "\n",
    "filename = '../data/config.yaml'\n",
    "\n",
    "with open(filename, 'r', encoding='utf-8') as file:\n",
    "    data = yaml.safe_load(file)\n",
    "\n",
    "print(data)"
   ]
  }
 ],
 "metadata": {
  "kernelspec": {
   "display_name": "Python 3",
   "language": "python",
   "name": "python3"
  },
  "language_info": {
   "codemirror_mode": {
    "name": "ipython",
    "version": 3
   },
   "file_extension": ".py",
   "mimetype": "text/x-python",
   "name": "python",
   "nbconvert_exporter": "python",
   "pygments_lexer": "ipython3",
   "version": "3.12.4"
  }
 },
 "nbformat": 4,
 "nbformat_minor": 2
}
